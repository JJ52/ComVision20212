{
 "cells": [
  {
   "cell_type": "code",
   "execution_count": 1,
   "id": "e68d6bee-21fc-42d0-b054-4a51def9ce5f",
   "metadata": {},
   "outputs": [],
   "source": [
    "import cv2\n",
    "import numpy as np\n",
    "import imutils\n",
    "from collections import deque\n",
    "import argparse\n",
    "import easydict"
   ]
  },
  {
   "cell_type": "code",
   "execution_count": 2,
   "id": "eec8ad4c-d584-4fe1-a725-2d8f5d5ccfc8",
   "metadata": {},
   "outputs": [],
   "source": [
    "cap = cv2.VideoCapture('tracking1.avi')\n",
    "number=0\n",
    "pts = deque(maxlen=64)\n",
    "colorRanges = [((157, 0, 0), (179, 255, 255), \"red\")\n",
    "               ,((0, 196, 106), (35, 255, 255), \"yellow\")\n",
    "              ]\n"
   ]
  },
  {
   "cell_type": "code",
   "execution_count": 3,
   "id": "703ebe4a-d0e1-462d-957a-b8c8e38e8fc8",
   "metadata": {},
   "outputs": [],
   "source": [
    "def nothing(x):\n",
    "    pass"
   ]
  },
  {
   "cell_type": "code",
   "execution_count": 4,
   "id": "a275377e-eac4-407b-a714-a6108ffd8a32",
   "metadata": {},
   "outputs": [],
   "source": [
    "cv2.namedWindow(\"Trackbars\")\n",
    "cv2.createTrackbar(\"video\", \"Trackbars\", 0,3,nothing)"
   ]
  },
  {
   "cell_type": "code",
   "execution_count": 6,
   "id": "1d9861d9-7ae0-4346-9c97-6ae707ae8c94",
   "metadata": {},
   "outputs": [],
   "source": [
    "while True:\n",
    "    ret, frame = cap.read()\n",
    "    v_number = cv2.getTrackbarPos(\"video\",\"Trackbars\")\n",
    "    if number !=v_number:\n",
    "        number=v_number\n",
    "        cap.release()\n",
    "        cap = cv2.VideoCapture('tracking'+str(number+1)+'.avi')\n",
    "    if ret == False:\n",
    "        cap.set(cv2.CAP_PROP_POS_FRAMES,-1)\n",
    "        continue\n",
    "    hsv = cv2.cvtColor(frame, cv2.COLOR_BGR2HSV)\n",
    "    for (lower, upper, colorName) in colorRanges:\n",
    "        mask = cv2.inRange(hsv, lower, upper)\n",
    "        mask = cv2.erode(mask, None, iterations=2)\n",
    "        mask = cv2.dilate(mask, None, iterations=2)\n",
    "        cnts = cv2.findContours(mask.copy(), cv2.RETR_EXTERNAL,cv2.CHAIN_APPROX_SIMPLE)\n",
    "        cnts = cnts[0] if imutils.is_cv2() else cnts[0]\n",
    "        center = None\n",
    "        if cnts is None:\n",
    "            continue\n",
    "        if len(cnts) > 0:\n",
    "            c = max(cnts, key=cv2.contourArea)\n",
    "            ((x, y), radius) = cv2.minEnclosingCircle(c)\n",
    "            M = cv2.moments(c)\n",
    "            center = (int(M[\"m10\"] / M[\"m00\"]), int(M[\"m01\"] / M[\"m00\"]))\n",
    "            (cX, cY) = (int(M[\"m10\"] / M[\"m00\"]), int(M[\"m01\"] / M[\"m00\"]))\n",
    "            if radius > 10:\n",
    "                cv2.circle(frame, (int(x), int(y)), int(radius), (0, 255, 255), 2)\n",
    "                cv2.putText(frame, colorName, (cX, cY), cv2.FONT_HERSHEY_SIMPLEX,1.0, (0, 255, 255), 2)                \n",
    "    pts.appendleft(center)\n",
    "    for i in range(1, len(pts)):\n",
    "\n",
    "        if pts[i - 1] is None or pts[i] is None:\n",
    "            continue\n",
    "        # otherwise, compute the thickness of the line and\n",
    "        # draw the connecting lines\n",
    "        thickness = int(np.sqrt(64 / float(i + 1)) * 2.5)\n",
    "        cv2.line(frame, pts[i - 1], pts[i], (0, 0, 255), thickness)\n",
    "    \n",
    "    cv2.imshow(\"frame\",frame)\n",
    "    cv2.imshow(\"mask\",mask)\n",
    "    key= cv2.waitKey(1)\n",
    "    if key==27:\n",
    "        break\n",
    "        \n",
    "cap.release()\n",
    "cv2.destroyAllWindows()"
   ]
  },
  {
   "cell_type": "code",
   "execution_count": null,
   "id": "2de3c1e8-9fa7-4a0a-8b7e-8119b7248067",
   "metadata": {},
   "outputs": [],
   "source": []
  },
  {
   "cell_type": "code",
   "execution_count": null,
   "id": "e9b89ae3-5e6d-4ced-bbac-b3c5a785fa4b",
   "metadata": {},
   "outputs": [],
   "source": []
  }
 ],
 "metadata": {
  "kernelspec": {
   "display_name": "Python 3",
   "language": "python",
   "name": "python3"
  },
  "language_info": {
   "codemirror_mode": {
    "name": "ipython",
    "version": 3
   },
   "file_extension": ".py",
   "mimetype": "text/x-python",
   "name": "python",
   "nbconvert_exporter": "python",
   "pygments_lexer": "ipython3",
   "version": "3.9.4"
  }
 },
 "nbformat": 4,
 "nbformat_minor": 5
}
