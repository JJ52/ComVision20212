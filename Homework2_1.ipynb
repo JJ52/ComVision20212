{
 "cells": [
  {
   "cell_type": "code",
   "execution_count": 1,
   "id": "b365cdda-9718-44cf-a560-1fbdeb4aadbf",
   "metadata": {},
   "outputs": [],
   "source": [
    "import cv2\n",
    "import numpy as np"
   ]
  },
  {
   "cell_type": "code",
   "execution_count": 2,
   "id": "4c5c878a-a347-42fb-a4a8-24a2be0e00f9",
   "metadata": {},
   "outputs": [],
   "source": [
    "cap = cv2.VideoCapture('tracking3.avi')\n",
    "number=0\n",
    "Lower=[(29,86,6),(86,29,26),(29,126,86)]\n",
    "Upper=[(64,255,255),(255,64,255),(255,255,64)]\n",
    "colorRanges = [((0, 255, 20), (0, 255, 255), \"red\")\n",
    "               #,((57, 68, 0), (151, 255, 255), \"yellow\")\n",
    "              ]\n"
   ]
  },
  {
   "cell_type": "code",
   "execution_count": 3,
   "id": "1cb50aff-f69f-44d2-acb3-85727c076c0f",
   "metadata": {},
   "outputs": [],
   "source": [
    "def nothing(x):\n",
    "    pass"
   ]
  },
  {
   "cell_type": "code",
   "execution_count": 4,
   "id": "2cc1ca3a-660a-4392-a686-3510913561f8",
   "metadata": {},
   "outputs": [],
   "source": [
    "cv2.namedWindow(\"Trackbars\")\n",
    "cv2.createTrackbar(\"L - H\", \"Trackbars\", 0,179,nothing)\n",
    "cv2.createTrackbar(\"L - S\", \"Trackbars\", 0,255,nothing)\n",
    "cv2.createTrackbar(\"L - V\", \"Trackbars\", 0,255,nothing)\n",
    "cv2.createTrackbar(\"U - H\", \"Trackbars\", 0,179,nothing)\n",
    "cv2.createTrackbar(\"U - S\", \"Trackbars\", 0,255,nothing)\n",
    "cv2.createTrackbar(\"U - V\", \"Trackbars\", 0,255,nothing)"
   ]
  },
  {
   "cell_type": "code",
   "execution_count": 5,
   "id": "56923933-ae40-4edd-9cb8-3d842cc1e563",
   "metadata": {},
   "outputs": [
    {
     "ename": "error",
     "evalue": "OpenCV(4.5.3) C:\\Users\\runneradmin\\AppData\\Local\\Temp\\pip-req-build-sn_xpupm\\opencv\\modules\\highgui\\src\\window_w32.cpp:2577: error: (-27:Null pointer) NULL window: 'Trackbars' in function 'cvGetTrackbarPos'\n",
     "output_type": "error",
     "traceback": [
      "\u001b[1;31m---------------------------------------------------------------------------\u001b[0m",
      "\u001b[1;31merror\u001b[0m                                     Traceback (most recent call last)",
      "\u001b[1;32m<ipython-input-5-565770c81581>\u001b[0m in \u001b[0;36m<module>\u001b[1;34m\u001b[0m\n\u001b[0;32m      1\u001b[0m \u001b[1;32mwhile\u001b[0m \u001b[1;32mTrue\u001b[0m\u001b[1;33m:\u001b[0m\u001b[1;33m\u001b[0m\u001b[1;33m\u001b[0m\u001b[0m\n\u001b[0;32m      2\u001b[0m     \u001b[0mret\u001b[0m\u001b[1;33m,\u001b[0m \u001b[0mframe\u001b[0m \u001b[1;33m=\u001b[0m \u001b[0mcap\u001b[0m\u001b[1;33m.\u001b[0m\u001b[0mread\u001b[0m\u001b[1;33m(\u001b[0m\u001b[1;33m)\u001b[0m\u001b[1;33m\u001b[0m\u001b[1;33m\u001b[0m\u001b[0m\n\u001b[1;32m----> 3\u001b[1;33m     \u001b[0ml_h\u001b[0m \u001b[1;33m=\u001b[0m \u001b[0mcv2\u001b[0m\u001b[1;33m.\u001b[0m\u001b[0mgetTrackbarPos\u001b[0m\u001b[1;33m(\u001b[0m\u001b[1;34m\"L - H\"\u001b[0m\u001b[1;33m,\u001b[0m\u001b[1;34m\"Trackbars\"\u001b[0m\u001b[1;33m)\u001b[0m\u001b[1;33m\u001b[0m\u001b[1;33m\u001b[0m\u001b[0m\n\u001b[0m\u001b[0;32m      4\u001b[0m     \u001b[0ml_s\u001b[0m \u001b[1;33m=\u001b[0m \u001b[0mcv2\u001b[0m\u001b[1;33m.\u001b[0m\u001b[0mgetTrackbarPos\u001b[0m\u001b[1;33m(\u001b[0m\u001b[1;34m\"L - S\"\u001b[0m\u001b[1;33m,\u001b[0m\u001b[1;34m\"Trackbars\"\u001b[0m\u001b[1;33m)\u001b[0m\u001b[1;33m\u001b[0m\u001b[1;33m\u001b[0m\u001b[0m\n\u001b[0;32m      5\u001b[0m     \u001b[0ml_v\u001b[0m \u001b[1;33m=\u001b[0m \u001b[0mcv2\u001b[0m\u001b[1;33m.\u001b[0m\u001b[0mgetTrackbarPos\u001b[0m\u001b[1;33m(\u001b[0m\u001b[1;34m\"L - V\"\u001b[0m\u001b[1;33m,\u001b[0m\u001b[1;34m\"Trackbars\"\u001b[0m\u001b[1;33m)\u001b[0m\u001b[1;33m\u001b[0m\u001b[1;33m\u001b[0m\u001b[0m\n",
      "\u001b[1;31merror\u001b[0m: OpenCV(4.5.3) C:\\Users\\runneradmin\\AppData\\Local\\Temp\\pip-req-build-sn_xpupm\\opencv\\modules\\highgui\\src\\window_w32.cpp:2577: error: (-27:Null pointer) NULL window: 'Trackbars' in function 'cvGetTrackbarPos'\n"
     ]
    }
   ],
   "source": [
    "while True:\n",
    "    ret, frame = cap.read()\n",
    "    l_h = cv2.getTrackbarPos(\"L - H\",\"Trackbars\")\n",
    "    l_s = cv2.getTrackbarPos(\"L - S\",\"Trackbars\")\n",
    "    l_v = cv2.getTrackbarPos(\"L - V\",\"Trackbars\")\n",
    "    u_h = cv2.getTrackbarPos(\"U - H\",\"Trackbars\")\n",
    "    u_s = cv2.getTrackbarPos(\"U - S\",\"Trackbars\")\n",
    "    u_v = cv2.getTrackbarPos(\"U - V\",\"Trackbars\")\n",
    "    #v_number = cv2.getTrackbarPos(\"video\",\"Trackbars\")\n",
    "    #color = cv2.getTrackbarPos(\"color\",\"Trackbars\")\n",
    "    if ret == False:\n",
    "        cap.set(cv2.CAP_PROP_POS_FRAMES,-1)\n",
    "        continue\n",
    "    hsv = cv2.cvtColor(frame, cv2.COLOR_BGR2HSV)\n",
    "    lower_blue=np.array([l_h,l_s,l_v])\n",
    "    upper_blue=np.array([u_h,u_s,u_v])\n",
    "    mask=cv2.inRange(hsv,lower_blue,upper_blue)  \n",
    "    mask = cv2.erode(mask, None, iterations=2)\n",
    "    mask = cv2.dilate(mask, None, iterations=2)\n",
    "    \n",
    "    \n",
    "    cv2.imshow(\"frame\",frame)\n",
    "    cv2.imshow(\"mask\",mask)\n",
    "    key= cv2.waitKey(1)\n",
    "    if key==27:\n",
    "        break\n",
    "        \n",
    "cap.release()\n",
    "cv2.destroyAllWindows()"
   ]
  },
  {
   "cell_type": "code",
   "execution_count": null,
   "id": "9084b3e1-d574-4cef-a089-8481e798989a",
   "metadata": {},
   "outputs": [],
   "source": []
  }
 ],
 "metadata": {
  "kernelspec": {
   "display_name": "Python 3",
   "language": "python",
   "name": "python3"
  },
  "language_info": {
   "codemirror_mode": {
    "name": "ipython",
    "version": 3
   },
   "file_extension": ".py",
   "mimetype": "text/x-python",
   "name": "python",
   "nbconvert_exporter": "python",
   "pygments_lexer": "ipython3",
   "version": "3.9.4"
  }
 },
 "nbformat": 4,
 "nbformat_minor": 5
}
